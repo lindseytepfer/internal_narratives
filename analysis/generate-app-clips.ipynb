{
 "cells": [
  {
   "cell_type": "code",
   "execution_count": null,
   "id": "c0db1625-abb8-4348-a96f-e5802531ebac",
   "metadata": {},
   "outputs": [],
   "source": [
    "import os\n",
    "import pandas as pd\n",
    "\n",
    "import moviepy.editor as me \n",
    "from moviepy.editor import *"
   ]
  },
  {
   "cell_type": "code",
   "execution_count": null,
   "id": "0678bbc1-4e61-4edb-89c9-875a7dca0fbb",
   "metadata": {},
   "outputs": [],
   "source": [
    "video_path = \"/Users/lindseytepfer/Documents/phd/inarr/stimuli/full/\"\n",
    "out_path = \"/Users/lindseytepfer/Documents/phd/inarr/stimuli/clips/\"\n",
    "video_list = [x for x in os.listdir(video_path) if 'mp4' in x]\n",
    "\n",
    "df = pd.read_csv(\"/Users/lindseytepfer/Documents/phd/inarr/monologue_timestamps.csv\")"
   ]
  },
  {
   "cell_type": "code",
   "execution_count": null,
   "id": "cc73bc99",
   "metadata": {},
   "outputs": [],
   "source": [
    "for i in video_list:\n",
    "    video = me.VideoFileClip(video_path+i)\n",
    "    \n",
    "    video_name = i.split(\"_\")[0]\n",
    "    version_id = i.split(\"_\")[1]\n",
    "    version_id = version_id.split(\".\")[0]\n",
    "\n",
    "    version_df = df[(df.movie == video_name)].reset_index()\n",
    "\n",
    "    for ix in range(version_df.index.max()+1):\n",
    "        start = version_df.loc[ix, \"start\"]\n",
    "        stop = version_df.loc[ix, \"stop\"]\n",
    "\n",
    "        if ix == 24:\n",
    "            stop = video.duration\n",
    "\n",
    "        clip = video.subclip(start,stop)\n",
    "\n",
    "        clip.write_videofile(out_path+video_name+\"-v\"+str(version_id)+\"_clip_\"+str(ix)+\".mp4\",\n",
    "                        codec='libx264', \n",
    "                        audio_codec='aac', \n",
    "                        temp_audiofile='temp-audio.m4a', \n",
    "                        remove_temp=True)\n",
    "\n"
   ]
  },
  {
   "cell_type": "code",
   "execution_count": null,
   "id": "c130f81a",
   "metadata": {},
   "outputs": [],
   "source": []
  }
 ],
 "metadata": {
  "kernelspec": {
   "display_name": "base",
   "language": "python",
   "name": "python3"
  },
  "language_info": {
   "codemirror_mode": {
    "name": "ipython",
    "version": 3
   },
   "file_extension": ".py",
   "mimetype": "text/x-python",
   "name": "python",
   "nbconvert_exporter": "python",
   "pygments_lexer": "ipython3",
   "version": "3.11.7"
  }
 },
 "nbformat": 4,
 "nbformat_minor": 5
}
