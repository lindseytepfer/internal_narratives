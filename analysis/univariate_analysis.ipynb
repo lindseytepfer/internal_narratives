{
 "cells": [
  {
   "cell_type": "code",
   "execution_count": 8,
   "metadata": {},
   "outputs": [],
   "source": [
    "import os\n",
    "import pandas as pd \n",
    "import math\n",
    "import nibabel as nb\n",
    "import numpy as np\n",
    "#pd.set_option('display.max_rows', 10)"
   ]
  },
  {
   "cell_type": "markdown",
   "metadata": {},
   "source": [
    "First, load in all the subjects .nii files. Then, import the CSV file that specifies the timestamps where internal monologue is present during each video. For each video, the subject's neural timeseries file will be segmented out into 25 clips. This means that altogether, each subject will have 50 clips. "
   ]
  },
  {
   "cell_type": "code",
   "execution_count": 42,
   "metadata": {},
   "outputs": [],
   "source": [
    "inarr_data = '/Volumes/LT/phd/inarr/'\n",
    "\n",
    "sublist = [x for x in os.listdir(inarr_data) if 'sub' in x]\n",
    "\n",
    "timestamps = pd.read_csv('/Users/lindseytepfer/Documents/phd/inarr/monologue_timestamps.csv')\n",
    "\n",
    "v1_subs = ['sub-1','sub-10','sub-13','sub-14','sub-17','sub-18','sub-19',\n",
    "'sub-20','sub-21','sub-24','sub-25','sub-26','sub-27']\n",
    "v2_subs = ['sub-2','sub-3','sub-4','sub-5','sub-6','sub-7','sub-8','sub-9',\n",
    "'sub-11','sub-12','sub-15','sub-16','sub-22','sub-23', 'sub-28']"
   ]
  },
  {
   "cell_type": "markdown",
   "metadata": {},
   "source": [
    "This function takes in each .nii image and the subsetted dataframe, and uses the timestamps inside of the dataframe to determine where the nii files must be trimmed. Because we're dealing with brain data, we shift the timecourse by 6 seconds to account for the hemodynamic response function. "
   ]
  },
  {
   "cell_type": "code",
   "execution_count": 37,
   "metadata": {},
   "outputs": [],
   "source": [
    "def trim_image(brain, df, snum, movie):\n",
    "\n",
    "    for i in range(df.index.min(),df.index.max()+1):\n",
    "\n",
    "        start = math.floor((df.loc[i, \"start\"] / 2) + 6)\n",
    "        stop = math.ceil((df.loc[i, \"stop\"] /2) + 6)\n",
    "        type = df.loc[i, \"type\"]\n",
    "        version_silenced = df.loc[i, \"version_silenced\"]\n",
    "\n",
    "        if snum in v1_subs:\n",
    "            version = 1\n",
    "        elif snum in v2_subs:\n",
    "            version = 2\n",
    "\n",
    "        if i%2 == 1: #this means its an IM segment\n",
    "            if version_silenced == version:\n",
    "                version = str(version)+\"_silenced\"\n",
    "\n",
    "        if i != df.index[-1]:\n",
    "            sub_trimmed = brain.slicer[:,:,:,start:stop]\n",
    "        else:\n",
    "            sub_trimmed = brain.slicer[:,:,:,start:]\n",
    "\n",
    "        nb.save(sub_trimmed,inarr_data+snum+\"/segmented_files/\"+snum+\"_\"+movie+\"_clip-\"+str(i)+\"_\"+type+\"_version-\"+str(version)+\".nii.gz\")\n",
    "    \n",
    "    return (print(\"trimming complete.\"))"
   ]
  },
  {
   "cell_type": "code",
   "execution_count": 43,
   "metadata": {},
   "outputs": [
    {
     "name": "stdout",
     "output_type": "stream",
     "text": [
      "sub-16\n",
      "trimming complete.\n",
      "trimming complete.\n",
      "sub-29\n",
      "sub-2\n",
      "trimming complete.\n",
      "trimming complete.\n",
      "sub-5\n",
      "trimming complete.\n",
      "trimming complete.\n",
      "sub-4\n",
      "trimming complete.\n",
      "trimming complete.\n",
      "sub-3\n",
      "trimming complete.\n",
      "trimming complete.\n"
     ]
    }
   ],
   "source": [
    "for sub in sublist[24:]:\n",
    "    print(sub)\n",
    "    sub_files = [x for x in os.listdir(inarr_data+sub) if '.nii.gz' in x]\n",
    "\n",
    "    for f in sub_files:\n",
    "        sub_brain = nb.load(inarr_data+sub+os.sep+f)\n",
    "\n",
    "        if 'physical' in f:\n",
    "            phys_df = timestamps[(timestamps.movie == 'physical')].copy()\n",
    "            trim_image(sub_brain, phys_df, sub, 'physical')\n",
    "\n",
    "        elif 'stutterer' in f:\n",
    "            stut_df = timestamps[(timestamps.movie == 'stutterer')].copy().reset_index()\n",
    "            trim_image(sub_brain, stut_df, sub, 'stutterer')\n",
    "\n"
   ]
  },
  {
   "cell_type": "markdown",
   "metadata": {},
   "source": [
    "## <font color='hotpink'> Univariate analysis </font>"
   ]
  },
  {
   "cell_type": "markdown",
   "metadata": {},
   "source": [
    "Next, we mask each clip into 400 different sub-regions (parcels) of the brain. In doing so, we create a 400-row dataframe for each clip, where each row is a parcel, and the column lengths are variable dependent upon the size of a given parcel. \n",
    "\n",
    "Afterwards, for each participant, we take the parcel data related to the internal monologue segments, and compute the mean for each clip. \n",
    "\n",
    "Take the clips from the (we ignore the non-internal monologue moments for this analysis) and take the silenced or unsilenced and you can compute a mean for each one of those clips, averaging both voxels within a parcel, and across time. We get 12 values per participant per parcel. "
   ]
  },
  {
   "cell_type": "code",
   "execution_count": null,
   "metadata": {},
   "outputs": [],
   "source": [
    "import nilearn\n",
    "from nilearn import datasets\n",
    "import nilearn.image as image\n",
    "from nilearn.maskers import NiftiMasker"
   ]
  },
  {
   "cell_type": "code",
   "execution_count": null,
   "metadata": {},
   "outputs": [],
   "source": [
    "schaefer_atlas = datasets.fetch_atlas_schaefer_2018(n_rois=400, yeo_networks=17, resolution_mm=1,\n",
    "                                                    data_dir=None, base_url=None, resume=True, verbose=1)\n",
    "'''\n",
    "From the documentation:\n",
    "The list of labels does not contain ‘Background’ by default. \n",
    "To have proper indexing, you should either manually add ‘Background’ to the list of labels:\n",
    "'''\n",
    "\n",
    "schaefer_atlas.labels = np.insert(schaefer_atlas.labels, 0, \"Background\")"
   ]
  },
  {
   "cell_type": "code",
   "execution_count": null,
   "metadata": {},
   "outputs": [],
   "source": [
    "# holding all 400 parcel masks in memory; takes apprx 2m13s\n",
    "mask_list = []\n",
    "\n",
    "for p in range(1,402): #402\n",
    "\n",
    "    try:\n",
    "        # create a new image from the parcel coordinate data \n",
    "        parcel = nilearn.image.new_img_like(schaefer_atlas.maps, nilearn.image.get_data(schaefer_atlas.maps) == p) #hold the parcel masks in memory \n",
    "        \n",
    "        #convert the image into a mask\n",
    "        masker = NiftiMasker() \n",
    "        parcel_mask = masker.fit(parcel)\n",
    "\n",
    "        #throw the mask into a list\n",
    "        mask_list.append(parcel_mask)\n",
    "    \n",
    "    except: \n",
    "        print(\"out of range, p=\", p)\n",
    "        continue"
   ]
  },
  {
   "cell_type": "code",
   "execution_count": null,
   "metadata": {},
   "outputs": [],
   "source": [
    "for ix,mask in enumerate(mask_list):\n",
    "    print(ix)\n",
    "    parcel_data = []\n",
    "    subidlist, movielist, cliplist, versionlist, typelist = [], [], [], [], []\n",
    "    \n",
    "    for sub in sublist:\n",
    "        print(sub)\n",
    "\n",
    "        sub_clips = [x for x in os.listdir(xhdpath+sub+'/segmented_files/') if '_IM_' in x]\n",
    "        sub_clips.sort()\n",
    "    \n",
    "        for clip in sub_clips:\n",
    "            movie = clip.split('_')[1]\n",
    "            clip_num = clip.split('_')[2]\n",
    "            type = clip.split('_')[3]\n",
    "            version = clip.split('_')[4].split('.')[0]\n",
    "\n",
    "            clip_segment = nb.load(xhdpath+sub+'/segmented_files/'+clip)\n",
    "            #this function takes the image's mean over time (the 4th dimension)\n",
    "            clip_avg = image.mean_img(clip_segment)\n",
    "\n",
    "            try:\n",
    "                roi_data = mask.transform_single_imgs(clip_avg)\n",
    "                parcel_data.append(roi_data[0])\n",
    "\n",
    "                subidlist.append(sub)\n",
    "                movielist.append(movie)\n",
    "                cliplist.append(clip_num)\n",
    "                versionlist.append(version.split('-')[1])\n",
    "                typelist.append(type)\n",
    "            except:\n",
    "                print(\"index:\", ix, sub, clip)\n",
    "                \n",
    "    df = pd.DataFrame(parcel_data)\n",
    "    df['sub'] = subidlist\n",
    "    df['movie'] = movielist\n",
    "    df['clip'] = cliplist\n",
    "    df['type'] = typelist\n",
    "    df['version'] = versionlist\n",
    "    \n",
    "    df.to_csv(xhdpath+\"/univariate_parcels/parcel_\"+str(ix)+\".csv\", index=False)\n",
    "    print('done')\n",
    "\n"
   ]
  },
  {
   "cell_type": "markdown",
   "metadata": {},
   "source": [
    "Next, I average the voxels of each parcel, creating a reduced dataframe:"
   ]
  },
  {
   "cell_type": "code",
   "execution_count": null,
   "metadata": {},
   "outputs": [],
   "source": [
    "parcel_paths = '/Volumes/Scraplab/lindseytepfer/inarr/univariate_parcels/'\n",
    "parcels = [x for x in os.listdir(parcel_paths) if '.csv' in x] #400"
   ]
  },
  {
   "cell_type": "code",
   "execution_count": null,
   "metadata": {},
   "outputs": [],
   "source": [
    "for i in parcels:\n",
    "    df = pd.read_csv(parcel_paths+i)\n",
    "    ignore_columns = ['sub', 'movie', 'clip', 'type', 'version']\n",
    "    voxel_columns = [x for x in df.columns if x not in ignore_columns]\n",
    "    df['avg_column'] = df[voxel_columns].mean(axis=1)\n",
    "    new_df = df[['avg_column', 'sub', 'movie', 'clip', 'type', 'version']]\n",
    "    new_df.to_csv(parcel_paths+\"averaged/\"+i)"
   ]
  },
  {
   "cell_type": "code",
   "execution_count": 2,
   "metadata": {},
   "outputs": [],
   "source": [
    "#quickly adding a new column to the univariate averages\n",
    "uni_avg_path = '/Volumes/Scraplab/lindseytepfer/inarr/univariate_parcels/averaged/'\n",
    "parcels = [x for x in os.listdir(uni_avg_path) if '.csv' in x] #400\n"
   ]
  },
  {
   "cell_type": "code",
   "execution_count": 39,
   "metadata": {},
   "outputs": [],
   "source": [
    "key = pd.read_csv(\"/Users/lindseytepfer/Documents/phd/inarr/silenced_key.csv\")\n",
    "\n",
    "for i in parcels:\n",
    "    pname = i.split(\".\")[0]\n",
    "    df = pd.read_csv(uni_avg_path+i, index_col=0)\n",
    "    df['silenced'] = \"\"\n",
    "\n",
    "    for ix in range(df.index.max()+1):\n",
    "        sub = df.loc[ix, \"sub\"]\n",
    "        m = df.loc[ix, \"movie\"]\n",
    "        c = df.loc[ix, \"clip\"]\n",
    "\n",
    "        if sub in v1_subs:\n",
    "            v = 1\n",
    "        elif sub in v2_subs:\n",
    "            v = 2\n",
    "\n",
    "        match = key[(key['version'] == v) & (key['clip'] == c) & (key['movie'] == m)]\n",
    "        s = match['silenced'].iloc[0]\n",
    "        \n",
    "        df.loc[ix,'silenced'] = s\n",
    "    df = df.drop(['version'], axis=1)\n",
    "    df.to_csv(\"/Volumes/Scraplab/lindseytepfer/inarr/univariate_parcels/averaged_new/\"+pname+\".csv\", index=False)\n",
    "\n",
    "    "
   ]
  },
  {
   "cell_type": "markdown",
   "metadata": {},
   "source": [
    "### Plotting the Univariate Result\n",
    "Now that we have all of our t-values, we insert them into a brain image and plot the results."
   ]
  },
  {
   "cell_type": "code",
   "execution_count": 1,
   "metadata": {},
   "outputs": [],
   "source": [
    "from statsmodels.stats.multitest import multipletests"
   ]
  },
  {
   "cell_type": "code",
   "execution_count": 27,
   "metadata": {},
   "outputs": [],
   "source": [
    "from nilearn import plotting, datasets, image, surface\n",
    "import nibabel as nb\n",
    "from nilearn.plotting import plot_img_on_surf\n",
    "from nilearn.image import new_img_like\n",
    "\n",
    "fsaverage = datasets.fetch_surf_fsaverage()"
   ]
  },
  {
   "cell_type": "code",
   "execution_count": 5,
   "metadata": {},
   "outputs": [
    {
     "name": "stdout",
     "output_type": "stream",
     "text": [
      "[get_dataset_dir] Dataset found in /Users/lindseytepfer/nilearn_data/schaefer_2018\n"
     ]
    }
   ],
   "source": [
    "schaefer_atlas = datasets.fetch_atlas_schaefer_2018(n_rois=400, yeo_networks=17, resolution_mm=1,\n",
    "    data_dir=None, base_url=None, resume=True, verbose=1)\n",
    "\n",
    "schaefer_atlas.labels = np.insert(schaefer_atlas.labels, 0, \"Background\")"
   ]
  },
  {
   "cell_type": "code",
   "execution_count": 42,
   "metadata": {},
   "outputs": [],
   "source": [
    "results = pd.read_csv('/Volumes/Scraplab/lindseytepfer/inarr/univariate_parcels/results/all_parcel_results.csv')\n",
    "t_vals = list(results['t_value'])\n",
    "results['p_value_log'] = -np.log(results['p_value'])\n",
    "\n",
    "reject, pvals_corrected, _, _ = multipletests(\n",
    "    results['p_value_log'],  # Your column of raw p-values\n",
    "    #alpha=0.05,      # Significance level\n",
    "    method='bonferroni'    # Holm-Bonferroni method\n",
    ")\n",
    "\n",
    "significant = np.where(pvals_corrected <= 0.05, 1, 0)\n"
   ]
  },
  {
   "cell_type": "code",
   "execution_count": 48,
   "metadata": {},
   "outputs": [
    {
     "data": {
      "text/plain": [
       "286"
      ]
     },
     "execution_count": 48,
     "metadata": {},
     "output_type": "execute_result"
    }
   ],
   "source": [
    "sum(results['p_value_log'] < 0.5)"
   ]
  },
  {
   "cell_type": "code",
   "execution_count": 49,
   "metadata": {},
   "outputs": [
    {
     "data": {
      "text/plain": [
       "51"
      ]
     },
     "execution_count": 49,
     "metadata": {},
     "output_type": "execute_result"
    }
   ],
   "source": [
    "sum(results['p_value'] < 0.5)"
   ]
  },
  {
   "cell_type": "code",
   "execution_count": null,
   "metadata": {},
   "outputs": [],
   "source": [
    "atlas = nb.load(schaefer_atlas.maps) # .maps provides the path to the map\n",
    "atlas_data = atlas.get_fdata()\n",
    "affine = atlas.affine\n",
    "\n",
    "mapped_data = np.zeros_like(atlas_data)\n",
    "mapped_data[atlas_data == 0] = np.nan # mark\n",
    "unique_regions = np.unique(atlas_data)[1:]\n",
    "\n",
    "for i, region in enumerate(unique_regions):\n",
    "    mapped_data[atlas_data == region] = t_vals[i]\n",
    "\n",
    "#Create corrected p-value mask:\n",
    "n_rois = 399\n",
    "\n",
    "roi_data = image.get_data(atlas)  # (x,y,z) array with ROI labels\n",
    "significant_mask = np.zeros_like(roi_data, dtype=np.float32)\n",
    "\n",
    "for roi_label in range(1, n_rois+1):\n",
    "    if significant[roi_label-1] == 1:  # ROI labels start at 1\n",
    "        significant_mask[roi_data == roi_label] = 1  # Tag significant voxels\n",
    "\n",
    "mask_img = new_img_like(atlas, significant_mask)"
   ]
  },
  {
   "cell_type": "code",
   "execution_count": 31,
   "metadata": {},
   "outputs": [],
   "source": [
    "tval_img = nb.Nifti1Image(mapped_data, affine)\n",
    "nb.save(tval_img, 'tvalue_map.nii.gz')"
   ]
  },
  {
   "cell_type": "code",
   "execution_count": 34,
   "metadata": {},
   "outputs": [
    {
     "name": "stdout",
     "output_type": "stream",
     "text": [
      "[get_dataset_dir] Dataset found in /Users/lindseytepfer/nilearn_data/fsaverage\n"
     ]
    },
    {
     "name": "stderr",
     "output_type": "stream",
     "text": [
      "/Users/lindseytepfer/miniconda3/lib/python3.11/site-packages/nilearn/surface/surface.py:540: RuntimeWarning: Mean of empty slice\n",
      "  texture = np.nanmean(all_samples, axis=2)\n",
      "/Users/lindseytepfer/miniconda3/lib/python3.11/site-packages/nilearn/surface/surface.py:540: RuntimeWarning: Mean of empty slice\n",
      "  texture = np.nanmean(all_samples, axis=2)\n"
     ]
    },
    {
     "data": {
      "image/png": "[encoded data removed]",
      "text/plain": [
       "<Figure size 426.667x480 with 5 Axes>"
      ]
     },
     "metadata": {},
     "output_type": "display_data"
    }
   ],
   "source": [
    "plotting.plot_img_on_surf(\n",
    "    tval_img,\"fsaverage\", inflate=True,\n",
    "    views=['lateral', 'medial'],  # Hemispheric views to display\n",
    "    hemispheres=['left', 'right'],  # Both hemispheres\n",
    "    threshold=0.05,  # Highlight significant p-values\n",
    "    cmap='seismic',  # Colormap (e.g., 'viridis', 'coolwarm')\n",
    "    colorbar=True,  # Show colorbar\n",
    "    # vmin=0, vmax=.4, #removing these options to let it be automatic\n",
    ")\n",
    "\n",
    "plotting.show()"
   ]
  }
 ],
 "metadata": {
  "kernelspec": {
   "display_name": "base",
   "language": "python",
   "name": "python3"
  },
  "language_info": {
   "codemirror_mode": {
    "name": "ipython",
    "version": 3
   },
   "file_extension": ".py",
   "mimetype": "text/x-python",
   "name": "python",
   "nbconvert_exporter": "python",
   "pygments_lexer": "ipython3",
   "version": "3.11.7"
  }
 },
 "nbformat": 4,
 "nbformat_minor": 2
}
