{
 "cells": [
  {
   "cell_type": "markdown",
   "metadata": {},
   "source": [
    "## <font color='turquoise'> Multivariate analysis (ISC)</font>"
   ]
  },
  {
   "cell_type": "markdown",
   "metadata": {},
   "source": [
    "We again want to mask out our clips, but this time we want on the the NIM set of clips - the _non-internal monologue segments_, and we want the voxel-wise average across time. "
   ]
  },
  {
   "cell_type": "code",
   "execution_count": null,
   "metadata": {},
   "outputs": [],
   "source": [
    "import os\n",
    "import pandas as pd \n",
    "import numpy as np\n",
    "from natsort import natsorted\n",
    "\n",
    "#Brain packages\n",
    "import nibabel as nb\n",
    "import nilearn\n",
    "from nilearn import datasets\n",
    "from nilearn.maskers import NiftiLabelsMasker\n",
    "from nilearn.connectome import ConnectivityMeasure"
   ]
  },
  {
   "cell_type": "code",
   "execution_count": null,
   "metadata": {},
   "outputs": [],
   "source": [
    "schaefer_atlas = datasets.fetch_atlas_schaefer_2018(n_rois=400, yeo_networks=17, resolution_mm=1,\n",
    "                                                    data_dir=None, base_url=None, resume=True, verbose=1)\n",
    "'''\n",
    "From the documentation:\n",
    "The list of labels does not contain ‘Background’ by default. \n",
    "To have proper indexing, you should either manually add ‘Background’ to the list of labels:\n",
    "'''\n",
    "\n",
    "schaefer_atlas.labels = np.insert(schaefer_atlas.labels, 0, \"Background\")\n",
    "\n",
    "masker = NiftiLabelsMasker(\n",
    "    labels_img=schaefer_atlas.maps,\n",
    "    strategy='mean',  # Averages voxels in parcel at each TR\n",
    "    standardize=False  # don't want z-scoring\n",
    ")"
   ]
  },
  {
   "cell_type": "code",
   "execution_count": 68,
   "metadata": {},
   "outputs": [],
   "source": [
    "version_matrix = np.loadtxt(\"version_matrix.csv\",delimiter=\",\", dtype=int, encoding='utf-8-sig')"
   ]
  },
  {
   "cell_type": "code",
   "execution_count": null,
   "metadata": {},
   "outputs": [],
   "source": [
    "segmented_clip_path = '/Volumes/LT/phd/inarr/'\n",
    "sublist = [x for x in os.listdir(segmented_clip_path) if 'sub' in x]\n",
    "complete_cliplist = []\n",
    "\n",
    "#compile all of the clip files across subjects\n",
    "for sub in sublist:\n",
    "    try:\n",
    "        segment_list = [x for x in os.listdir(segmented_clip_path+sub+os.sep+\"segmented_files/\") if \"_NIM\" in x]\n",
    "        discard_first_clip = [x for x in segment_list if \"_clip-0_\" not in x]\n",
    "\n",
    "        for f in discard_first_clip:\n",
    "            complete_cliplist.append(f)\n",
    "    except:\n",
    "        continue\n",
    "\n",
    "movie_list = ['physical', 'stutterer']\n",
    "\n",
    "#we don't include the very first clip, clip-0:\n",
    "nim_isc_clips = ['clip-2','clip-4','clip-6','clip-8','clip-10','clip-12',\n",
    "             'clip-14','clip-16','clip-18','clip-20','clip-22','clip-24']"
   ]
  },
  {
   "cell_type": "code",
   "execution_count": 75,
   "metadata": {},
   "outputs": [
    {
     "name": "stdout",
     "output_type": "stream",
     "text": [
      "starting clip: clip-2\n",
      "starting clip: clip-4\n",
      "starting clip: clip-6\n",
      "starting clip: clip-8\n",
      "starting clip: clip-10\n",
      "starting clip: clip-12\n",
      "starting clip: clip-14\n",
      "starting clip: clip-16\n",
      "starting clip: clip-18\n",
      "starting clip: clip-20\n",
      "starting clip: clip-22\n",
      "starting clip: clip-24\n"
     ]
    }
   ],
   "source": [
    "for movie in movie_list[1:2]:\n",
    "    #all the subject's clips corresponding to stutterer, for example\n",
    "    movie_cliplist = [x for x in complete_cliplist if movie in x]\n",
    "\n",
    "    clip_to_version_correlation = np.zeros([12,400]) #NIM is 12 clips without the first one\n",
    "\n",
    "    for ix, i in enumerate(nim_isc_clips):\n",
    "        print(\"starting clip:\", i)\n",
    "\n",
    "        #all 28 subjects clip-1's for example\n",
    "        filtered_clips = [x for x in movie_cliplist if i+\"_\" in x]\n",
    "\n",
    "        #doing this ensures that my resulting matrix is in the *same exact order* as our version matrix\n",
    "        v1_clips = natsorted([x for x in filtered_clips if 'version-1' in x])\n",
    "        v2_clips = natsorted([x for x in filtered_clips if 'version-2' in x])\n",
    "\n",
    "        single_clip_matrix_list = []\n",
    "\n",
    "        for clip in v1_clips:\n",
    "\n",
    "            sub = clip.split(\"_\")[0]\n",
    "            clip_segment_nii = nb.load(segmented_clip_path+sub+'/segmented_files/'+clip)\n",
    "\n",
    "            \"\"\" \n",
    "            masker.fit_transform(clip_segment_nii) will take the voxelwise mean (ie it preserves\n",
    "            timecourse information). This produces a timepoint x parcel csv, eg for physical's \n",
    "            clip_0, it will generate a (74,40) shape.\n",
    "            \"\"\"\n",
    "\n",
    "            time_by_parcel = masker.fit_transform(clip_segment_nii) #producess a timepoint x parcel csv, eg (2, 400)\n",
    "            single_clip_matrix_list.append(time_by_parcel)\n",
    "        \n",
    "        for clip in v2_clips:\n",
    "\n",
    "            sub = clip.split(\"_\")[0]\n",
    "            clip_segment_nii = nb.load(segmented_clip_path+sub+'/segmented_files/'+clip)\n",
    "\n",
    "            time_by_parcel = masker.fit_transform(clip_segment_nii) #producess a timepoint x parcel csv, eg (2, 400)\n",
    "            single_clip_matrix_list.append(time_by_parcel)\n",
    "        \n",
    "        single_clip_mat_arr = np.array(single_clip_matrix_list)\n",
    "\n",
    "        for p in range(400):\n",
    "\n",
    "            subject_by_timeseries = [] # eg., clip-2 has 28 subjects, and a timeseries of 14\n",
    "\n",
    "            for subject in range(single_clip_mat_arr.shape[0]): #go through each subject\n",
    "                subject_by_timeseries.append(single_clip_mat_arr[subject,:,p]) #grab the clip timeseries\n",
    "\n",
    "            clipdf = pd.DataFrame(subject_by_timeseries)\n",
    "            cliparr = np.corrcoef(clipdf)\n",
    "\n",
    "            neural_lower = nilearn.connectome.sym_matrix_to_vec(cliparr, discard_diagonal=True)\n",
    "            version_lower = nilearn.connectome.sym_matrix_to_vec(version_matrix, discard_diagonal=True)\n",
    "\n",
    "            result = np.corrcoef(neural_lower, version_lower)[0][1]\n",
    "            clip_to_version_correlation[ix,p] = result\n",
    "\n",
    "    output = pd.DataFrame(clip_to_version_correlation)\n",
    "    output.to_csv(movie+\"_parcel_NIM_ISC.csv\")"
   ]
  },
  {
   "cell_type": "markdown",
   "metadata": {},
   "source": [
    "### Plotting the un-corrected results"
   ]
  },
  {
   "cell_type": "code",
   "execution_count": 82,
   "metadata": {},
   "outputs": [],
   "source": [
    "phys_isc, stut_isc = pd.read_csv('physical_parcel_NIM_ISC.csv', index_col=0), pd.read_csv('stutterer_parcel_NIM_ISC.csv', index_col=0)\n",
    "phys_isc_avg, stut_isc_avg = phys_isc.mean(axis=0).reset_index(drop=True), stut_isc.mean(axis=0).reset_index(drop=True)\n",
    "isc_avg = list((phys_isc_avg + stut_isc_avg) / 2)"
   ]
  },
  {
   "cell_type": "code",
   "execution_count": 84,
   "metadata": {},
   "outputs": [
    {
     "name": "stdout",
     "output_type": "stream",
     "text": [
      "[get_dataset_dir] Dataset found in /Users/lindseytepfer/nilearn_data/schaefer_2018\n"
     ]
    }
   ],
   "source": [
    "from nilearn import plotting, datasets, image, surface\n",
    "import nibabel as nb\n",
    "from nilearn.plotting import plot_img_on_surf\n",
    "from nilearn.image import new_img_like\n",
    "\n",
    "fsaverage = datasets.fetch_surf_fsaverage()\n",
    "\n",
    "schaefer_atlas = datasets.fetch_atlas_schaefer_2018(n_rois=400, yeo_networks=17, resolution_mm=1,\n",
    "    data_dir=None, base_url=None, resume=True, verbose=1)\n",
    "\n",
    "schaefer_atlas.labels = np.insert(schaefer_atlas.labels, 0, \"Background\")"
   ]
  },
  {
   "cell_type": "code",
   "execution_count": 85,
   "metadata": {},
   "outputs": [],
   "source": [
    "atlas = nb.load(schaefer_atlas.maps) # .maps provides the path to the map\n",
    "atlas_data = atlas.get_fdata()\n",
    "affine = atlas.affine\n",
    "\n",
    "mapped_data = np.zeros_like(atlas_data)\n",
    "mapped_data[atlas_data == 0] = np.nan # mark\n",
    "unique_regions = np.unique(atlas_data)[1:]\n",
    "\n",
    "for i, region in enumerate(unique_regions):\n",
    "    mapped_data[atlas_data == region] = isc_avg[i] \n",
    "\n",
    "isc_corr_map = nb.Nifti1Image(mapped_data, affine)\n",
    "nb.save(isc_corr_map, 'isc_corr_map.nii.gz')"
   ]
  },
  {
   "cell_type": "code",
   "execution_count": 86,
   "metadata": {},
   "outputs": [
    {
     "name": "stdout",
     "output_type": "stream",
     "text": [
      "[get_dataset_dir] Dataset found in /Users/lindseytepfer/nilearn_data/fsaverage\n"
     ]
    },
    {
     "name": "stderr",
     "output_type": "stream",
     "text": [
      "/Users/lindseytepfer/miniconda3/lib/python3.11/site-packages/nilearn/surface/surface.py:540: RuntimeWarning: Mean of empty slice\n",
      "  texture = np.nanmean(all_samples, axis=2)\n",
      "/Users/lindseytepfer/miniconda3/lib/python3.11/site-packages/nilearn/surface/surface.py:540: RuntimeWarning: Mean of empty slice\n",
      "  texture = np.nanmean(all_samples, axis=2)\n"
     ]
    },
    {
     "data": {
      "image/png": "[encoded data removed]",
      "text/plain": [
       "<Figure size 426.667x480 with 5 Axes>"
      ]
     },
     "metadata": {},
     "output_type": "display_data"
    }
   ],
   "source": [
    "plotting.plot_img_on_surf(isc_corr_map,\n",
    "    \"fsaverage\", inflate=True,\n",
    "    views=['lateral', 'medial'],  # Hemispheric views to display\n",
    "    hemispheres=['left', 'right'],  # Both hemispheres\n",
    "    #threshold=0.05,  # Highlight significant p-values\n",
    "    cmap='seismic',  # Colormap (e.g., 'viridis', 'coolwarm')\n",
    "    colorbar=True,  # Show colorbar\n",
    "    # vmin=0, vmax=.4, #removing these options to let it be automatic\n",
    ")\n",
    "\n",
    "plotting.show()"
   ]
  },
  {
   "cell_type": "markdown",
   "metadata": {},
   "source": [
    "### Permutation Analyses"
   ]
  },
  {
   "cell_type": "code",
   "execution_count": null,
   "metadata": {},
   "outputs": [
    {
     "name": "stdout",
     "output_type": "stream",
     "text": [
      "starting clip: clip-2\n",
      "starting clip: clip-4\n",
      "starting clip: clip-6\n",
      "starting clip: clip-8\n",
      "starting clip: clip-10\n",
      "starting clip: clip-12\n",
      "starting clip: clip-14\n",
      "starting clip: clip-16\n",
      "starting clip: clip-18\n",
      "starting clip: clip-20\n",
      "starting clip: clip-22\n",
      "starting clip: clip-24\n"
     ]
    }
   ],
   "source": [
    "for movie in movie_list[1:2]:\n",
    "    #all the subject's clips corresponding to stutterer, for example\n",
    "    movie_cliplist = [x for x in complete_cliplist if movie in x]\n",
    "\n",
    "    clip_to_version_correlation = np.zeros([12,400, 10]) # (num. nim clips, num. parcels, num permutations)\n",
    "\n",
    "    for ix, i in enumerate(nim_isc_clips):\n",
    "        print(\"starting clip:\", i)\n",
    "\n",
    "        #all 28 subjects clip-1's for example\n",
    "        filtered_clips = [x for x in movie_cliplist if i+\"_\" in x]\n",
    "\n",
    "        #doing this ensures that my resulting matrix is in the *same exact order* as our version matrix\n",
    "        v1_clips = natsorted([x for x in filtered_clips if 'version-1' in x])\n",
    "        v2_clips = natsorted([x for x in filtered_clips if 'version-2' in x])\n",
    "\n",
    "        single_clip_matrix_list = []\n",
    "\n",
    "        for clip in v1_clips:\n",
    "\n",
    "            sub = clip.split(\"_\")[0]\n",
    "            clip_segment_nii = nb.load(segmented_clip_path+sub+'/segmented_files/'+clip)\n",
    "\n",
    "            \"\"\" \n",
    "            masker.fit_transform(clip_segment_nii) will take the voxelwise mean (ie it preserves\n",
    "            timecourse information). This produces a timepoint x parcel csv, eg for physical's \n",
    "            clip_0, it will generate a (74,40) shape.\n",
    "            \"\"\"\n",
    "\n",
    "            time_by_parcel = masker.fit_transform(clip_segment_nii) #producess a timepoint x parcel csv, eg (2, 400)\n",
    "            single_clip_matrix_list.append(time_by_parcel)\n",
    "        \n",
    "        for clip in v2_clips:\n",
    "\n",
    "            sub = clip.split(\"_\")[0]\n",
    "            clip_segment_nii = nb.load(segmented_clip_path+sub+'/segmented_files/'+clip)\n",
    "\n",
    "            time_by_parcel = masker.fit_transform(clip_segment_nii) #producess a timepoint x parcel csv, eg (2, 400)\n",
    "            single_clip_matrix_list.append(time_by_parcel)\n",
    "        \n",
    "        single_clip_mat_arr = np.array(single_clip_matrix_list)\n",
    "\n",
    "        for p in range(400):\n",
    "\n",
    "            np.random.seed(0)\n",
    "\n",
    "            subject_by_timeseries = [] # eg., clip-2 has 28 subjects, and a timeseries of 14\n",
    "\n",
    "            for subject in range(single_clip_mat_arr.shape[0]): #go through each subject\n",
    "                subject_by_timeseries.append(single_clip_mat_arr[subject,:,p]) #grab the clip timeseries\n",
    "\n",
    "            clipdf = pd.DataFrame(subject_by_timeseries)\n",
    "            cliparr = np.corrcoef(clipdf)\n",
    "\n",
    "            for perm in range(10):\n",
    "                shuffled_matrix = cliparr[np.random.permutation(28)][:, np.random.permutation(28)]\n",
    "\n",
    "                neural_lower = nilearn.connectome.sym_matrix_to_vec(cliparr, discard_diagonal=True)\n",
    "                version_lower = nilearn.connectome.sym_matrix_to_vec(version_matrix, discard_diagonal=True)\n",
    "\n",
    "                result = np.corrcoef(neural_lower, version_lower)[0][1]\n",
    "                clip_to_version_correlation[ix,p,perm] = result\n",
    "\n",
    "        np.save(movie+'_isc_permutation_matrix', clip_to_version_correlation)"
   ]
  },
  {
   "cell_type": "code",
   "execution_count": 94,
   "metadata": {},
   "outputs": [
    {
     "data": {
      "text/plain": [
       "array([[0.5375132 , 0.5375132 , 0.5375132 , 0.5375132 , 0.5375132 ,\n",
       "        0.5375132 , 0.5375132 , 0.5375132 , 0.5375132 , 0.5375132 ],\n",
       "       [0.22185808, 0.22185808, 0.22185808, 0.22185808, 0.22185808,\n",
       "        0.22185808, 0.22185808, 0.22185808, 0.22185808, 0.22185808],\n",
       "       [0.26376533, 0.26376533, 0.26376533, 0.26376533, 0.26376533,\n",
       "        0.26376533, 0.26376533, 0.26376533, 0.26376533, 0.26376533],\n",
       "       [0.62488555, 0.62488555, 0.62488555, 0.62488555, 0.62488555,\n",
       "        0.62488555, 0.62488555, 0.62488555, 0.62488555, 0.62488555],\n",
       "       [0.77855827, 0.77855827, 0.77855827, 0.77855827, 0.77855827,\n",
       "        0.77855827, 0.77855827, 0.77855827, 0.77855827, 0.77855827],\n",
       "       [0.40403732, 0.40403732, 0.40403732, 0.40403732, 0.40403732,\n",
       "        0.40403732, 0.40403732, 0.40403732, 0.40403732, 0.40403732],\n",
       "       [0.84350621, 0.84350621, 0.84350621, 0.84350621, 0.84350621,\n",
       "        0.84350621, 0.84350621, 0.84350621, 0.84350621, 0.84350621],\n",
       "       [0.17901838, 0.17901838, 0.17901838, 0.17901838, 0.17901838,\n",
       "        0.17901838, 0.17901838, 0.17901838, 0.17901838, 0.17901838],\n",
       "       [0.59410035, 0.59410035, 0.59410035, 0.59410035, 0.59410035,\n",
       "        0.59410035, 0.59410035, 0.59410035, 0.59410035, 0.59410035],\n",
       "       [0.37679263, 0.37679263, 0.37679263, 0.37679263, 0.37679263,\n",
       "        0.37679263, 0.37679263, 0.37679263, 0.37679263, 0.37679263],\n",
       "       [0.39127697, 0.39127697, 0.39127697, 0.39127697, 0.39127697,\n",
       "        0.39127697, 0.39127697, 0.39127697, 0.39127697, 0.39127697],\n",
       "       [0.13357127, 0.13357127, 0.13357127, 0.13357127, 0.13357127,\n",
       "        0.13357127, 0.13357127, 0.13357127, 0.13357127, 0.13357127]])"
      ]
     },
     "execution_count": 94,
     "metadata": {},
     "output_type": "execute_result"
    }
   ],
   "source": [
    "clip_to_version_correlation.max(axis=1)"
   ]
  },
  {
   "cell_type": "code",
   "execution_count": null,
   "metadata": {},
   "outputs": [],
   "source": []
  }
 ],
 "metadata": {
  "kernelspec": {
   "display_name": "base",
   "language": "python",
   "name": "python3"
  },
  "language_info": {
   "codemirror_mode": {
    "name": "ipython",
    "version": 3
   },
   "file_extension": ".py",
   "mimetype": "text/x-python",
   "name": "python",
   "nbconvert_exporter": "python",
   "pygments_lexer": "ipython3",
   "version": "3.11.7"
  }
 },
 "nbformat": 4,
 "nbformat_minor": 2
}
