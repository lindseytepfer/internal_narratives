{
 "cells": [
  {
   "cell_type": "markdown",
   "metadata": {},
   "source": [
    "## <font color='turquoise'> Inter-subject Correlation</font>"
   ]
  },
  {
   "cell_type": "markdown",
   "metadata": {},
   "source": [
    "We again want to mask out our clips, but this time we want on the the NIM set of clips - the _non-internal monologue segments_, and we want the voxel-wise average across time. "
   ]
  },
  {
   "cell_type": "code",
   "execution_count": 2,
   "metadata": {},
   "outputs": [],
   "source": [
    "import os\n",
    "import glob\n",
    "import pandas as pd \n",
    "import numpy as np\n",
    "from natsort import natsorted\n",
    "import statsmodels.api as sm\n",
    "\n",
    "#Brain packages\n",
    "import nibabel as nb\n",
    "import nilearn\n",
    "from nilearn import datasets\n",
    "from nilearn.maskers import NiftiLabelsMasker\n",
    "from nilearn.connectome import ConnectivityMeasure"
   ]
  },
  {
   "cell_type": "code",
   "execution_count": 2,
   "metadata": {},
   "outputs": [
    {
     "name": "stdout",
     "output_type": "stream",
     "text": [
      "[get_dataset_dir] Dataset found in /Users/lindseytepfer/nilearn_data/schaefer_2018\n"
     ]
    }
   ],
   "source": [
    "schaefer_atlas = datasets.fetch_atlas_schaefer_2018(n_rois=400, yeo_networks=17, resolution_mm=1,\n",
    "                                                    data_dir=None, base_url=None, resume=True, verbose=1)\n",
    "'''\n",
    "From the documentation:\n",
    "The list of labels does not contain ‘Background’ by default. \n",
    "To have proper indexing, you should either manually add ‘Background’ to the list of labels:\n",
    "'''\n",
    "\n",
    "masker = NiftiLabelsMasker(\n",
    "    labels_img=schaefer_atlas.maps,\n",
    "    strategy='mean',  # Averages voxels in parcel at each TR\n",
    "    standardize=False  # don't want z-scoring\n",
    ")"
   ]
  },
  {
   "cell_type": "code",
   "execution_count": null,
   "metadata": {},
   "outputs": [],
   "source": []
  },
  {
   "cell_type": "code",
   "execution_count": 3,
   "metadata": {},
   "outputs": [],
   "source": [
    "version_matrix = np.loadtxt(\"version_matrix.csv\",delimiter=\",\", dtype=int, encoding='utf-8-sig')"
   ]
  },
  {
   "cell_type": "markdown",
   "metadata": {},
   "source": [
    "### <font color='red'>Non-Internal Monologues ISC Analyses</font> \n",
    "In this analysis, we perform an inter-subject correlation between subjects who have seen the same version of the movie stimuli, while also controlling for the potential influence of the inner monologues they would have potentially received. This is to investigate whether watching the same version of the "
   ]
  },
  {
   "cell_type": "code",
   "execution_count": 5,
   "metadata": {},
   "outputs": [],
   "source": [
    "segmented_clip_path = '/Volumes/Scraplab/fSEND/inarr_data/'\n",
    "sublist = [x for x in os.listdir(segmented_clip_path) if 'sub' in x]\n",
    "complete_cliplist = []\n",
    "\n",
    "#compile all of the clip files across subjects\n",
    "for sub in sublist:\n",
    "    try:\n",
    "        segment_list = [x for x in os.listdir(segmented_clip_path+sub+os.sep+\"segmented_files/\") if \"_NIM\" in x] # [ IM / NIM ]\n",
    "        discard_first_clip = [x for x in segment_list if \"_clip-0_\" not in x]\n",
    "\n",
    "        for f in discard_first_clip:\n",
    "            complete_cliplist.append(f)\n",
    "    except:\n",
    "        continue\n",
    "\n",
    "movie_list = ['physical', 'stutterer']\n",
    "\n",
    "#we don't include the very first clip, clip-0:\n",
    "nim_clips = ['clip-2','clip-4','clip-6','clip-8','clip-10','clip-12',\n",
    "             'clip-14','clip-16','clip-18','clip-20','clip-22','clip-24']\n",
    "\n",
    "im_clips = ['clip-1','clip-3','clip-5','clip-7','clip-9','clip-11','clip-13',\n",
    "             'clip-15','clip-17','clip-19','clip-21','clip-23']"
   ]
  },
  {
   "cell_type": "code",
   "execution_count": null,
   "metadata": {},
   "outputs": [
    {
     "name": "stdout",
     "output_type": "stream",
     "text": [
      "starting clip: clip-2\n"
     ]
    }
   ],
   "source": [
    "for movie in movie_list[0:1]:\n",
    "    #all the subject's clips corresponding to stutterer, for example\n",
    "    movie_cliplist = [x for x in complete_cliplist if movie in x]\n",
    "\n",
    "    clip_to_version_correlation = np.zeros([12,400]) #NIM is 12 clips without the first one\n",
    "\n",
    "    for ix, i in enumerate(nim_clips[0:1]):\n",
    "\n",
    "        #all 28 subjects clip-1's for example\n",
    "        filtered_clips = [x for x in movie_cliplist if i+\"_\" in x]\n",
    "\n",
    "        #doing this ensures that my resulting matrix is in the *same exact order* as our version matrix\n",
    "        v1_clips = natsorted([x for x in filtered_clips if 'version-1' in x])\n",
    "        v2_clips = natsorted([x for x in filtered_clips if 'version-2' in x])\n",
    "\n",
    "        single_clip_matrix_list = [] #this will be len(28) for each subject!\n",
    "        preceding_clip_matrix_list = []\n",
    "\n",
    "        for clip in v1_clips:\n",
    "\n",
    "            sub = clip.split(\"_\")[0]\n",
    "            clip_segment_nii = nb.load(segmented_clip_path+sub+'/segmented_files/'+clip)\n",
    "            preceding_clip = glob.glob(segmented_clip_path+sub+'/segmented_files/'+sub+\"_\"+movie+\"_\"+im_clips[ix]+\"_IM_version-1*.nii.gz\")[0]\n",
    "            preceding_clip_nii = nb.load(preceding_clip))\n",
    "\n",
    "            \"\"\" \n",
    "            masker.fit_transform(clip_segment_nii) will take the voxelwise mean (ie it preserves\n",
    "            timecourse information). This produces a timepoint x parcel csv, eg for physical's \n",
    "            clip_0, it will generate a (74,40) shape.\n",
    "            \"\"\"\n",
    "\n",
    "            time_by_parcel = masker.fit_transform(clip_segment_nii) #producess a timepoint x parcel csv, eg (2, 400)\n",
    "            time_by_parcel_preceding_clip = masker.fit_transform(preceding_clip_nii)\n",
    "\n",
    "            single_clip_matrix_list.append(time_by_parcel)\n",
    "            preceding_clip_matrix_list.append(time_by_parcel_preceding_clip)\n",
    "        \n",
    "        for clip in v2_clips:\n",
    "\n",
    "            sub = clip.split(\"_\")[0]\n",
    "            clip_segment_nii = nb.load(segmented_clip_path+sub+'/segmented_files/'+clip)\n",
    "            preceding_clip = glob.glob(segmented_clip_path+sub+'/segmented_files/'+sub+\"_\"+movie+\"_\"+im_clips[ix]+\"_IM_version-2*.nii.gz\")[0]\n",
    "            preceding_clip_nii = nb.load(preceding_clip)\n",
    "\n",
    "            time_by_parcel = masker.fit_transform(clip_segment_nii) #producess a timepoint x parcel csv, eg (2, 400)\n",
    "            time_by_parcel_preceding_clip = masker.fit_transform(preceding_clip_nii)\n",
    "\n",
    "            single_clip_matrix_list.append(time_by_parcel)\n",
    "            preceding_clip_matrix_list.append(time_by_parcel_preceding_clip)\n",
    "        \n",
    "        single_clip_mat_arr = np.array(single_clip_matrix_list) #shape is (28, TR, 400) so for clip-2 its: (28,14,400)\n",
    "        preceding_clip_mat_arr = np.array(preceding_clip_matrix_list)\n",
    "\n",
    "        for p in range(400)[0:1]:\n",
    "            sub_clip_corr = np.corrcoef(single_clip_mat_arr[:,:,p]) #(28,28)\n",
    "            im_clips_corr = np.corrcoef(preceding_clip_mat_arr[:,:,p]) #also (28,28)\n",
    "            \n",
    "            #regress out the IM signal \n",
    "            nim_flat, im_flat = sub_clip_corr.flatten(), im_clips_corr.flatten()\n",
    "            const = im_const = sm.add_constant(im_flat)\n",
    "            model = sm.OLS(nim_flat, im_const)\n",
    "            results = model.fit()\n",
    "            residuals = results.resid\n",
    "            cleaned_nim = residuals.reshape(28, 28)\n",
    "            \n",
    "\n",
    "            neural_lower = nilearn.connectome.sym_matrix_to_vec(cleaned_nim, discard_diagonal=True)\n",
    "            version_lower = nilearn.connectome.sym_matrix_to_vec(version_matrix, discard_diagonal=True)\n",
    "\n",
    "            result = np.corrcoef(neural_lower, version_lower)[0][1]\n",
    "            clip_to_version_correlation[ix,p] = result\n",
    "\n",
    "    output = pd.DataFrame(clip_to_version_correlation) #(12,400), 12 clips 400 parcels\n",
    "    output.to_csv(movie+\"_parcel_CLEANED_NIM_ISC.csv\")"
   ]
  },
  {
   "cell_type": "markdown",
   "metadata": {},
   "source": [
    "### <font color='teal'>Permutation Analyses</font>"
   ]
  },
  {
   "cell_type": "code",
   "execution_count": null,
   "metadata": {},
   "outputs": [],
   "source": [
    "for movie in movie_list:\n",
    "\n",
    "    #all the clips corresponding to stutterer, for example, across all 28 subs\n",
    "    movie_cliplist = [x for x in complete_cliplist if movie in x]\n",
    "\n",
    "    clip_to_version_permutations = np.zeros([12,400,10000]) # (n. NIM clips, n. parcels, n. perms)\n",
    "\n",
    "    for ix, i in enumerate(nim_clips):\n",
    "\n",
    "        #all 28 subjects clip-1's, for example\n",
    "        filtered_clips = [x for x in movie_cliplist if i+\"_\" in x]\n",
    "\n",
    "        #doing this ensures that my resulting matrix is in the *same exact order* as our version matrix\n",
    "        v1_clips = natsorted([x for x in filtered_clips if 'version-1' in x])\n",
    "        v2_clips = natsorted([x for x in filtered_clips if 'version-2' in x])\n",
    "\n",
    "        single_clip_matrix_list = []\n",
    "        preceding_clip_matrix_list = []\n",
    "\n",
    "        for clip in v1_clips:\n",
    "\n",
    "            sub = clip.split(\"_\")[0]\n",
    "            clip_segment_nii = nb.load(andes_path+sub+'/segmented_files/'+clip)\n",
    "            preceding_clip = glob.glob(andes_path+sub+'/segmented_files/'+sub+\"_\"+movie+\"_\"+im_clips[ix]+\"_IM_version-1*.nii.gz\")[0]\n",
    "            preceding_clip_nii = nb.load(preceding_clip)\n",
    "\n",
    "            time_by_parcel = masker.fit_transform(clip_segment_nii) #producess a timepoint x parcel csv, eg (2, 400)\n",
    "            time_by_parcel_preceding_clip = masker.fit_transform(preceding_clip_nii)\n",
    "\n",
    "            single_clip_matrix_list.append(time_by_parcel)\n",
    "            preceding_clip_matrix_list.append(time_by_parcel_preceding_clip)\n",
    "        \n",
    "        for clip in v2_clips:\n",
    "\n",
    "            sub = clip.split(\"_\")[0]\n",
    "            clip_segment_nii = nb.load(andes_path+sub+'/segmented_files/'+clip)\n",
    "            preceding_clip = glob.glob(andes_path+sub+'/segmented_files/'+sub+\"_\"+movie+\"_\"+im_clips[ix]+\"_IM_version-2*.nii.gz\")[0]\n",
    "            preceding_clip_nii = nb.load(preceding_clip)\n",
    "\n",
    "            time_by_parcel = masker.fit_transform(clip_segment_nii) #producess a timepoint x parcel csv, eg (2, 400)\n",
    "            time_by_parcel_preceding_clip = masker.fit_transform(preceding_clip_nii)\n",
    "\n",
    "            single_clip_matrix_list.append(time_by_parcel)\n",
    "            preceding_clip_matrix_list.append(time_by_parcel_preceding_clip)\n",
    "        \n",
    "        single_clip_mat_arr = np.array(single_clip_matrix_list)\n",
    "        preceding_clip_mat_arr = np.array(preceding_clip_matrix_list)\n",
    "\n",
    "        for p in range(400):\n",
    "            np.random.seed(0)\n",
    "\n",
    "            sub_clip_corr = np.corrcoef(single_clip_mat_arr[:,:,p]) #(28,28)\n",
    "            im_clips_corr = np.corrcoef(preceding_clip_mat_arr[:,:,p]) # also (28,28)\n",
    "            \n",
    "            #regress out the IM signal \n",
    "            nim_flat, im_flat = sub_clip_corr.flatten(), im_clips_corr.flatten()\n",
    "            const = im_const = sm.add_constant(im_flat)\n",
    "            model = sm.OLS(nim_flat, im_const)\n",
    "            results = model.fit()\n",
    "            residuals = results.resid\n",
    "            cleaned_nim = residuals.reshape(28, 28)\n",
    "\n",
    "            for perm in range(10000):\n",
    "                random_array = np.random.permutation(28)\n",
    "                shuffled_matrix = sub_clip_corr[random_array][:, random_array]\n",
    "            \n",
    "                #contrast neural signals based on which version the subject saw\n",
    "                neural_lower = nilearn.connectome.sym_matrix_to_vec(shuffled_matrix, discard_diagonal=True)\n",
    "                version_lower = nilearn.connectome.sym_matrix_to_vec(version_matrix, discard_diagonal=True)\n",
    "\n",
    "                result = np.corrcoef(neural_lower, version_lower)[0][1]\n",
    "                clip_to_version_permutations[ix,p,perm] = result\n",
    "        \n",
    "    np.save(movie+'_isc_nim_cleaned_permutation_matrix', clip_to_version_permutations.mean(axis=0)) #average across clips"
   ]
  },
  {
   "cell_type": "markdown",
   "metadata": {},
   "source": [
    "### <font color='teal'>Plotting the Results</font>"
   ]
  },
  {
   "cell_type": "code",
   "execution_count": 1,
   "metadata": {},
   "outputs": [],
   "source": [
    "from statsmodels.stats.multitest import multipletests\n",
    "from nilearn import plotting, datasets, image, surface\n",
    "import nibabel as nb\n",
    "from nilearn.plotting import plot_img_on_surf\n",
    "from nilearn.image import new_img_like\n",
    "import matplotlib.pyplot as plt\n",
    "\n",
    "fsaverage = datasets.fetch_surf_fsaverage()"
   ]
  },
  {
   "cell_type": "code",
   "execution_count": 15,
   "metadata": {},
   "outputs": [],
   "source": [
    "#load observed values\n",
    "phys_isc, stut_isc = pd.read_csv('outputs/physical_parcel_CLEANED_NIM_ISC.csv', index_col=0), pd.read_csv('outputs/stutterer_parcel_CLEANED_NIM_ISC.csv', index_col=0)\n",
    "phys_isc_avg, stut_isc_avg = phys_isc.mean(axis=0).reset_index(drop=True), stut_isc.mean(axis=0).reset_index(drop=True)\n",
    "isc_avg = np.array((phys_isc_avg + stut_isc_avg) / 2) #shape (400)\n",
    "\n",
    "#load permutated values\n",
    "phys_perm = np.load('outputs/physical_isc_nim_cleaned_permutation_matrix.npy') # (400, 10000)\n",
    "stut_perm = np.load('outputs/stutterer_isc_nim_cleaned_permutation_matrix.npy')\n",
    "perm_avg = np.mean([phys_perm, stut_perm], axis=0) #shape (400, 10000)\n",
    "\n",
    "permuted_vals = np.abs(perm_avg)\n",
    "null_dist = permuted_vals.max(axis=0) #shape (10000) \n",
    "\n",
    "results_pvals = np.empty((400))\n",
    "\n",
    "for parcel in range(isc_avg.shape[0]): #400, for each parcel\n",
    "    results_pvals[parcel] = np.mean(null_dist >= abs(isc_avg[parcel]))\n",
    "\n",
    "significant = np.where(results_pvals < 0.05, 1, 0)"
   ]
  },
  {
   "cell_type": "code",
   "execution_count": 16,
   "metadata": {},
   "outputs": [
    {
     "name": "stdout",
     "output_type": "stream",
     "text": [
      "[get_dataset_dir] Dataset found in /Users/lindseytepfer/nilearn_data/schaefer_2018\n"
     ]
    }
   ],
   "source": [
    "#create correlation value image\n",
    "\n",
    "schaefer_atlas = datasets.fetch_atlas_schaefer_2018(n_rois=400, yeo_networks=17, resolution_mm=1,\n",
    "    data_dir=None, base_url=None, resume=True, verbose=1)\n",
    "\n",
    "#need to insert the 0 for proper indexing. \n",
    "schaefer_atlas.labels = np.insert(schaefer_atlas.labels, 0, \"Background\")\n",
    "\n",
    "atlas = nb.load(schaefer_atlas.maps) # .maps provides the path to the map\n",
    "atlas_data = atlas.get_fdata()\n",
    "\n",
    "mapped_data = np.zeros_like(atlas_data)\n",
    "mapped_data[atlas_data == 0] = np.nan # mark\n",
    "unique_regions = np.unique(atlas_data)[1:]\n",
    "\n",
    "for i, region in enumerate(unique_regions):\n",
    "    mapped_data[atlas_data == region] = isc_avg[i]\n",
    "\n",
    "nim_corr_img = nb.Nifti1Image(mapped_data, atlas.affine)\n",
    "nb.save(nim_corr_img, 'outputs/nim_corr_cleaned_map.nii.gz')"
   ]
  },
  {
   "cell_type": "code",
   "execution_count": 17,
   "metadata": {},
   "outputs": [],
   "source": [
    "#Create corrected p-value mask:\n",
    "n_rois = 399\n",
    "\n",
    "roi_data = image.get_data(atlas)  # (x,y,z) array with ROI labels\n",
    "significant_mask = np.zeros_like(roi_data, dtype=np.float32)\n",
    "\n",
    "for roi_label in range(1, n_rois+1):\n",
    "    if significant[roi_label-1] == 1:  # ROI labels start at 1\n",
    "        significant_mask[roi_data == roi_label] = 1  # Tag significant voxels\n",
    "\n",
    "mask_img = new_img_like(atlas, significant_mask)"
   ]
  },
  {
   "cell_type": "code",
   "execution_count": 18,
   "metadata": {},
   "outputs": [
    {
     "name": "stdout",
     "output_type": "stream",
     "text": [
      "[get_dataset_dir] Dataset found in /Users/lindseytepfer/nilearn_data/fsaverage\n"
     ]
    },
    {
     "name": "stderr",
     "output_type": "stream",
     "text": [
      "/Users/lindseytepfer/miniconda3/lib/python3.11/site-packages/nilearn/surface/surface.py:540: RuntimeWarning: Mean of empty slice\n",
      "  texture = np.nanmean(all_samples, axis=2)\n",
      "/Users/lindseytepfer/miniconda3/lib/python3.11/site-packages/nilearn/surface/surface.py:540: RuntimeWarning: Mean of empty slice\n",
      "  texture = np.nanmean(all_samples, axis=2)\n"
     ]
    },
    {
     "data": {
      "image/png": "[encoded data removed]",
      "text/plain": [
       "<Figure size 426.667x480 with 5 Axes>"
      ]
     },
     "metadata": {},
     "output_type": "display_data"
    }
   ],
   "source": [
    "#plot results\n",
    "\n",
    "plotting.plot_img_on_surf(nim_corr_img,\n",
    "    \"fsaverage\", inflate=True,\n",
    "    views=['lateral', 'medial'],  # Hemispheric views to display\n",
    "    hemispheres=['left', 'right'],  # Both hemispheres\n",
    "    cmap='seismic',  # Colormap (e.g., 'viridis', 'coolwarm')\n",
    "    colorbar=True,  # Show colorbar\n",
    "    mask_img=mask_img,\n",
    "    vmin=-1, vmax=1, \n",
    ")\n",
    "\n",
    "# fig = plt.gcf()\n",
    "# fig.savefig('isc_corrected.png', dpi=300, facecolor='w', bbox_inches='tight')\n",
    "# plt.close()\n",
    "\n",
    "plotting.show()"
   ]
  },
  {
   "cell_type": "markdown",
   "metadata": {},
   "source": [
    "# Sanity Checks"
   ]
  },
  {
   "cell_type": "markdown",
   "metadata": {},
   "source": [
    "### <font color='red'>Non-Internal Monologues ISC Analyses</font> \n",
    "This is a primary analysis."
   ]
  },
  {
   "cell_type": "code",
   "execution_count": null,
   "metadata": {},
   "outputs": [],
   "source": [
    "segmented_clip_path = '/Volumes/Scraplab/fSEND/inarr_data/'\n",
    "sublist = [x for x in os.listdir(segmented_clip_path) if 'sub' in x]\n",
    "complete_cliplist = []\n",
    "\n",
    "#compile all of the clip files across subjects\n",
    "for sub in sublist:\n",
    "    try:\n",
    "        segment_list = [x for x in os.listdir(segmented_clip_path+sub+os.sep+\"segmented_files/\") if \"_NIM\" in x] # [ IM / NIM ]\n",
    "        discard_first_clip = [x for x in segment_list if \"_clip-0_\" not in x]\n",
    "\n",
    "        for f in discard_first_clip:\n",
    "            complete_cliplist.append(f)\n",
    "    except:\n",
    "        continue\n",
    "\n",
    "movie_list = ['physical', 'stutterer']\n",
    "\n",
    "#we don't include the very first clip, clip-0:\n",
    "nim_clips = ['clip-2','clip-4','clip-6','clip-8','clip-10','clip-12',\n",
    "             'clip-14','clip-16','clip-18','clip-20','clip-22','clip-24']\n",
    "\n",
    "im_clips = ['clip-1','clip-3','clip-5','clip-7','clip-9','clip-11','clip-13',\n",
    "             'clip-15','clip-17','clip-19','clip-21','clip-23']"
   ]
  },
  {
   "cell_type": "code",
   "execution_count": null,
   "metadata": {},
   "outputs": [],
   "source": [
    "for movie in movie_list:\n",
    "    #all the subject's clips corresponding to stutterer, for example\n",
    "    movie_cliplist = [x for x in complete_cliplist if movie in x]\n",
    "\n",
    "    clip_to_version_correlation = np.zeros([12,400]) #NIM is 12 clips without the first one\n",
    "\n",
    "    for ix, i in enumerate(nim_clips):\n",
    "        print(\"starting clip:\", i)\n",
    "\n",
    "        #all 28 subjects clip-1's for example\n",
    "        filtered_clips = [x for x in movie_cliplist if i+\"_\" in x]\n",
    "\n",
    "        #doing this ensures that my resulting matrix is in the *same exact order* as our version matrix\n",
    "        v1_clips = natsorted([x for x in filtered_clips if 'version-1' in x])\n",
    "        v2_clips = natsorted([x for x in filtered_clips if 'version-2' in x])\n",
    "\n",
    "        single_clip_matrix_list = [] #this will be len(28) for each subject!\n",
    "\n",
    "        for clip in v1_clips:\n",
    "\n",
    "            sub = clip.split(\"_\")[0]\n",
    "            clip_segment_nii = nb.load(segmented_clip_path+sub+'/segmented_files/'+clip)\n",
    "\n",
    "            \"\"\" \n",
    "            masker.fit_transform(clip_segment_nii) will take the voxelwise mean (ie it preserves\n",
    "            timecourse information). This produces a timepoint x parcel csv, eg for physical's \n",
    "            clip_0, it will generate a (74,40) shape.\n",
    "            \"\"\"\n",
    "\n",
    "            time_by_parcel = masker.fit_transform(clip_segment_nii) #producess a timepoint x parcel csv, eg (2, 400)\n",
    "\n",
    "            single_clip_matrix_list.append(time_by_parcel)\n",
    "        \n",
    "        for clip in v2_clips:\n",
    "\n",
    "            sub = clip.split(\"_\")[0]\n",
    "            clip_segment_nii = nb.load(segmented_clip_path+sub+'/segmented_files/'+clip)\n",
    "\n",
    "            time_by_parcel = masker.fit_transform(clip_segment_nii) #producess a timepoint x parcel csv, eg (2, 400)\n",
    "\n",
    "            single_clip_matrix_list.append(time_by_parcel)\n",
    "        \n",
    "        single_clip_mat_arr = np.array(single_clip_matrix_list) #shape is (28, TR, 400) so for clip-2 its: (28,14,400)\n",
    "\n",
    "        for p in range(400):\n",
    "            sub_clip_corr = np.corrcoef(single_clip_mat_arr[:,:,p]) #(28,28)\n",
    "\n",
    "            neural_lower = nilearn.connectome.sym_matrix_to_vec(sub_clip_corr, discard_diagonal=True)\n",
    "            version_lower = nilearn.connectome.sym_matrix_to_vec(version_matrix, discard_diagonal=True)\n",
    "\n",
    "            result = np.corrcoef(neural_lower, version_lower)[0][1]\n",
    "            clip_to_version_correlation[ix,p] = result\n",
    "\n",
    "    output = pd.DataFrame(clip_to_version_correlation) #(12,400), 12 clips 400 parcels\n",
    "    output.to_csv(movie+\"_parcel_NIM_ISC.csv\")\n",
    "\n",
    "    #takes an hour to run locally"
   ]
  },
  {
   "cell_type": "markdown",
   "metadata": {},
   "source": [
    "### <font color='red'>Internal Monologues ISC Analyses</font> \n",
    "This is a secondary analysis. The primary hypothesis is about the non-internal monologues with regards to the intersubject correlation."
   ]
  },
  {
   "cell_type": "code",
   "execution_count": null,
   "metadata": {},
   "outputs": [],
   "source": [
    "segmented_clip_path = '/Volumes/Scraplab/fSEND/inarr_data/'\n",
    "sublist = [x for x in os.listdir(segmented_clip_path) if 'sub' in x]\n",
    "complete_cliplist = []\n",
    "\n",
    "#compile all of the clip files across subjects\n",
    "for sub in sublist:\n",
    "    try:\n",
    "        segment_list = [x for x in os.listdir(segmented_clip_path+sub+os.sep+\"segmented_files/\") if \"_IM_\" in x] # [ IM / NIM ]\n",
    "        #discard_first_clip = [x for x in segment_list if \"_clip-0_\" not in x]\n",
    "\n",
    "        for f in segment_list:\n",
    "            complete_cliplist.append(f)\n",
    "    except:\n",
    "        continue\n",
    "\n",
    "movie_list = ['physical', 'stutterer']\n",
    "\n",
    "#we don't include the very first clip, clip-0:\n",
    "im_clips = ['clip-1','clip-3','clip-5','clip-7','clip-9','clip-11','clip-13',\n",
    "             'clip-15','clip-17','clip-19','clip-21','clip-23']\n",
    "\n",
    "for movie in movie_list:\n",
    "    #all the subject's clips corresponding to stutterer, for example\n",
    "    movie_cliplist = [x for x in complete_cliplist if movie in x]\n",
    "\n",
    "    clip_to_version_correlation = np.zeros([12,400]) #IM is 12 clips\n",
    "\n",
    "    for ix, i in enumerate(im_clips):\n",
    "        print(\"starting clip:\", i)\n",
    "\n",
    "        #all 28 subjects clip-1's for example\n",
    "        filtered_clips = [x for x in movie_cliplist if i+\"_\" in x]\n",
    "\n",
    "        #doing this ensures that my resulting matrix is in the *same exact order* as our version matrix\n",
    "        v1_clips = natsorted([x for x in filtered_clips if 'version-1' in x])\n",
    "        v2_clips = natsorted([x for x in filtered_clips if 'version-2' in x])\n",
    "\n",
    "        single_clip_matrix_list = [] #this will be len(28) for each subject!\n",
    "\n",
    "        for clip in v1_clips:\n",
    "\n",
    "            sub = clip.split(\"_\")[0]\n",
    "            clip_segment_nii = nb.load(segmented_clip_path+sub+'/segmented_files/'+clip)\n",
    "\n",
    "            \"\"\" \n",
    "            masker.fit_transform(clip_segment_nii) will take the voxelwise mean (ie it preserves\n",
    "            timecourse information). This produces a timepoint x parcel csv, eg for physical's \n",
    "            clip_0, it will generate a (74,40) shape.\n",
    "            \"\"\"\n",
    "\n",
    "            time_by_parcel = masker.fit_transform(clip_segment_nii) #producess a timepoint x parcel csv, eg (2, 400)\n",
    "            single_clip_matrix_list.append(time_by_parcel)\n",
    "        \n",
    "        for clip in v2_clips:\n",
    "\n",
    "            sub = clip.split(\"_\")[0]\n",
    "            clip_segment_nii = nb.load(segmented_clip_path+sub+'/segmented_files/'+clip)\n",
    "\n",
    "            time_by_parcel = masker.fit_transform(clip_segment_nii) #producess a timepoint x parcel csv, eg (2, 400)\n",
    "            single_clip_matrix_list.append(time_by_parcel)\n",
    "        \n",
    "        single_clip_mat_arr = np.array(single_clip_matrix_list) #shape is (28, TR, 400) so for clip-2 its: (28,14,400)\n",
    "\n",
    "        for p in range(400):\n",
    "            sub_clip_corr = np.corrcoef(single_clip_mat_arr[:,:,p]) #(28,28)\n",
    "\n",
    "            neural_lower = nilearn.connectome.sym_matrix_to_vec(sub_clip_corr, discard_diagonal=True)\n",
    "            version_lower = nilearn.connectome.sym_matrix_to_vec(version_matrix, discard_diagonal=True)\n",
    "\n",
    "            result = np.corrcoef(neural_lower, version_lower)[0][1]\n",
    "            clip_to_version_correlation[ix,p] = result\n",
    "\n",
    "    output = pd.DataFrame(clip_to_version_correlation) #(12,400), 12 clips 400 parcels\n",
    "    output.to_csv(movie+\"_parcel_IM_ISC.csv\")\n",
    "\n",
    "    #takes an hour to run locally"
   ]
  },
  {
   "cell_type": "markdown",
   "metadata": {},
   "source": [
    "### <font color='teal'>Plotting the Sanity Checks Analyses</font>"
   ]
  },
  {
   "cell_type": "code",
   "execution_count": null,
   "metadata": {},
   "outputs": [],
   "source": [
    "from statsmodels.stats.multitest import multipletests\n",
    "from nilearn import plotting, datasets, image, surface\n",
    "import nibabel as nb\n",
    "from nilearn.plotting import plot_img_on_surf\n",
    "from nilearn.image import new_img_like\n",
    "import matplotlib.pyplot as plt\n",
    "\n",
    "fsaverage = datasets.fetch_surf_fsaverage()"
   ]
  },
  {
   "cell_type": "markdown",
   "metadata": {},
   "source": [
    "**<font color='darkgoldenrod'>Non-internal monologues</font>**"
   ]
  },
  {
   "cell_type": "code",
   "execution_count": null,
   "metadata": {},
   "outputs": [],
   "source": [
    "#load observed values\n",
    "phys_isc, stut_isc = pd.read_csv('outputs/physical_parcel_NIM_ISC.csv', index_col=0), pd.read_csv('outputs/stutterer_parcel_NIM_ISC.csv', index_col=0)\n",
    "phys_isc_avg, stut_isc_avg = phys_isc.mean(axis=0).reset_index(drop=True), stut_isc.mean(axis=0).reset_index(drop=True)\n",
    "isc_avg = np.array((phys_isc_avg + stut_isc_avg) / 2) #shape (400)\n",
    "\n",
    "#load permutated values\n",
    "phys_perm = np.load('/Volumes/Scraplab/lindseytepfer/inarr/physical_isc_nim_permutation_matrix.npy') # (400, 10000)\n",
    "stut_perm = np.load('/Volumes/Scraplab/lindseytepfer/inarr/stutterer_isc_nim_permutation_matrix.npy')\n",
    "perm_avg = np.mean([phys_perm, stut_perm], axis=0) #shape (400, 10000)\n",
    "\n",
    "permuted_vals = np.abs(perm_avg)\n",
    "null_dist = permuted_vals.max(axis=0) #shape (10000) \n",
    "\n",
    "results_pvals = np.empty((400))\n",
    "\n",
    "for parcel in range(isc_avg.shape[0]): #400, for each parcel\n",
    "    results_pvals[parcel] = np.mean(null_dist >= abs(isc_avg[parcel]))\n",
    "\n",
    "significant = np.where(results_pvals < 0.05, 1, 0)"
   ]
  },
  {
   "cell_type": "code",
   "execution_count": null,
   "metadata": {},
   "outputs": [
    {
     "name": "stdout",
     "output_type": "stream",
     "text": [
      "[get_dataset_dir] Dataset found in /Users/lindseytepfer/nilearn_data/schaefer_2018\n"
     ]
    }
   ],
   "source": [
    "#create correlation value image\n",
    "\n",
    "schaefer_atlas = datasets.fetch_atlas_schaefer_2018(n_rois=400, yeo_networks=17, resolution_mm=1,\n",
    "    data_dir=None, base_url=None, resume=True, verbose=1)\n",
    "\n",
    "#need to insert the 0 for proper indexing. \n",
    "schaefer_atlas.labels = np.insert(schaefer_atlas.labels, 0, \"Background\")\n",
    "\n",
    "atlas = nb.load(schaefer_atlas.maps) # .maps provides the path to the map\n",
    "atlas_data = atlas.get_fdata()\n",
    "\n",
    "mapped_data = np.zeros_like(atlas_data)\n",
    "mapped_data[atlas_data == 0] = np.nan # mark\n",
    "unique_regions = np.unique(atlas_data)[1:]\n",
    "\n",
    "for i, region in enumerate(unique_regions):\n",
    "    mapped_data[atlas_data == region] = isc_avg[i]\n",
    "\n",
    "nim_corr_img = nb.Nifti1Image(mapped_data, atlas.affine)\n",
    "nb.save(nim_corr_img, 'outputs/nim_corr_map.nii.gz')"
   ]
  },
  {
   "cell_type": "code",
   "execution_count": null,
   "metadata": {},
   "outputs": [],
   "source": [
    "#Create corrected p-value mask:\n",
    "n_rois = 399\n",
    "\n",
    "roi_data = image.get_data(atlas)  # (x,y,z) array with ROI labels\n",
    "significant_mask = np.zeros_like(roi_data, dtype=np.float32)\n",
    "\n",
    "for roi_label in range(1, n_rois+1):\n",
    "    if significant[roi_label-1] == 1:  # ROI labels start at 1\n",
    "        significant_mask[roi_data == roi_label] = 1  # Tag significant voxels\n",
    "\n",
    "mask_img = new_img_like(atlas, significant_mask)"
   ]
  },
  {
   "cell_type": "code",
   "execution_count": null,
   "metadata": {},
   "outputs": [
    {
     "name": "stdout",
     "output_type": "stream",
     "text": [
      "[get_dataset_dir] Dataset found in /Users/lindseytepfer/nilearn_data/fsaverage\n"
     ]
    },
    {
     "name": "stderr",
     "output_type": "stream",
     "text": [
      "/Users/lindseytepfer/miniconda3/lib/python3.11/site-packages/nilearn/surface/surface.py:540: RuntimeWarning: Mean of empty slice\n",
      "  texture = np.nanmean(all_samples, axis=2)\n",
      "/Users/lindseytepfer/miniconda3/lib/python3.11/site-packages/nilearn/surface/surface.py:540: RuntimeWarning: Mean of empty slice\n",
      "  texture = np.nanmean(all_samples, axis=2)\n"
     ]
    },
    {
     "data": {
      "image/png": "[encoded data removed]",
      "text/plain": [
       "<Figure size 426.667x480 with 5 Axes>"
      ]
     },
     "metadata": {},
     "output_type": "display_data"
    }
   ],
   "source": [
    "#plot results\n",
    "\n",
    "plotting.plot_img_on_surf(nim_corr_img,\n",
    "    \"fsaverage\", inflate=True,\n",
    "    views=['lateral', 'medial'],  # Hemispheric views to display\n",
    "    hemispheres=['left', 'right'],  # Both hemispheres\n",
    "    #threshold=0.05,  # Highlight significant p-values\n",
    "    cmap='seismic',  # Colormap (e.g., 'viridis', 'coolwarm')\n",
    "    colorbar=True,  # Show colorbar\n",
    "    mask_img=mask_img,\n",
    "    vmin=-1, vmax=1, #removing these options to let it be automatic\n",
    ")\n",
    "\n",
    "# fig = plt.gcf()\n",
    "# fig.savefig('isc_corrected.png', dpi=300, facecolor='w', bbox_inches='tight')\n",
    "# plt.close()\n",
    "\n",
    "plotting.show()"
   ]
  },
  {
   "cell_type": "markdown",
   "metadata": {},
   "source": [
    "**<font color='darkgoldenrod'>Internal monologues</font>**"
   ]
  },
  {
   "cell_type": "code",
   "execution_count": null,
   "metadata": {},
   "outputs": [],
   "source": [
    "#load observed values\n",
    "phys_isc, stut_isc = pd.read_csv('outputs/physical_parcel_IM_ISC.csv', index_col=0), pd.read_csv('outputs/stutterer_parcel_IM_ISC.csv', index_col=0)\n",
    "phys_isc_avg, stut_isc_avg = phys_isc.mean(axis=0).reset_index(drop=True), stut_isc.mean(axis=0).reset_index(drop=True)\n",
    "isc_avg = np.array((phys_isc_avg + stut_isc_avg) / 2) #shape (400)\n",
    "\n",
    "#load permutated values\n",
    "phys_perm = np.load('/Volumes/Scraplab/lindseytepfer/inarr/physical_isc_im_permutation_matrix.npy')\n",
    "stut_perm = np.load('/Volumes/Scraplab/lindseytepfer/inarr/stutterer_isc_im_permutation_matrix.npy')\n",
    "perm_avg = np.mean([phys_perm, stut_perm], axis=0) #shape (400, 10000)\n",
    "\n",
    "permuted_vals = np.abs(perm_avg)\n",
    "null_dist = permuted_vals.max(axis=0) #shape (10000) \n",
    "\n",
    "results_pvals = np.empty((400))\n",
    "\n",
    "for parcel in range(isc_avg.shape[0]): #400, for each parcel\n",
    "    results_pvals[parcel] = np.mean(null_dist[:] >= abs(isc_avg[parcel]))\n",
    "\n",
    "significant = np.where(results_pvals < 0.01, 1, 0)"
   ]
  },
  {
   "cell_type": "code",
   "execution_count": null,
   "metadata": {},
   "outputs": [
    {
     "name": "stdout",
     "output_type": "stream",
     "text": [
      "[get_dataset_dir] Dataset found in /Users/lindseytepfer/nilearn_data/schaefer_2018\n"
     ]
    }
   ],
   "source": [
    "#create correlation image\n",
    "\n",
    "schaefer_atlas = datasets.fetch_atlas_schaefer_2018(n_rois=400, yeo_networks=17, resolution_mm=1,\n",
    "    data_dir=None, base_url=None, resume=True, verbose=1)\n",
    "\n",
    "#need to insert the 0 for proper indexing. \n",
    "schaefer_atlas.labels = np.insert(schaefer_atlas.labels, 0, \"Background\")\n",
    "\n",
    "atlas = nb.load(schaefer_atlas.maps) # .maps provides the path to the map\n",
    "atlas_data = atlas.get_fdata()\n",
    "\n",
    "mapped_data = np.zeros_like(atlas_data)\n",
    "mapped_data[atlas_data == 0] = np.nan # mark\n",
    "unique_regions = np.unique(atlas_data)[1:]\n",
    "\n",
    "for i, region in enumerate(unique_regions):\n",
    "    mapped_data[atlas_data == region] = isc_avg[i]\n",
    "\n",
    "im_corr_img = nb.Nifti1Image(mapped_data, atlas.affine)\n",
    "#nb.save(nim_corr_img, 'tvalue_map.nii.gz')"
   ]
  },
  {
   "cell_type": "code",
   "execution_count": null,
   "metadata": {},
   "outputs": [],
   "source": [
    "#Create corrected p-value mask:\n",
    "n_rois = 399\n",
    "\n",
    "roi_data = image.get_data(atlas)  # (x,y,z) array with ROI labels\n",
    "significant_mask = np.zeros_like(roi_data, dtype=np.float32)\n",
    "\n",
    "for roi_label in range(1, n_rois+1):\n",
    "    if significant[roi_label-1] == 1:  # ROI labels start at 1\n",
    "        significant_mask[roi_data == roi_label] = 1  # Tag significant voxels\n",
    "\n",
    "mask_img = new_img_like(atlas, significant_mask)"
   ]
  },
  {
   "cell_type": "code",
   "execution_count": null,
   "metadata": {},
   "outputs": [
    {
     "name": "stdout",
     "output_type": "stream",
     "text": [
      "[get_dataset_dir] Dataset found in /Users/lindseytepfer/nilearn_data/fsaverage\n"
     ]
    },
    {
     "name": "stderr",
     "output_type": "stream",
     "text": [
      "/Users/lindseytepfer/miniconda3/lib/python3.11/site-packages/nilearn/surface/surface.py:540: RuntimeWarning: Mean of empty slice\n",
      "  texture = np.nanmean(all_samples, axis=2)\n",
      "/Users/lindseytepfer/miniconda3/lib/python3.11/site-packages/nilearn/surface/surface.py:540: RuntimeWarning: Mean of empty slice\n",
      "  texture = np.nanmean(all_samples, axis=2)\n"
     ]
    },
    {
     "data": {
      "image/png": "[encoded data removed]",
      "text/plain": [
       "<Figure size 426.667x480 with 5 Axes>"
      ]
     },
     "metadata": {},
     "output_type": "display_data"
    }
   ],
   "source": [
    "#plot results\n",
    "\n",
    "plotting.plot_img_on_surf(im_corr_img,\n",
    "    \"fsaverage\", inflate=True,\n",
    "    views=['lateral', 'medial'],  # Hemispheric views to display\n",
    "    hemispheres=['left', 'right'],  # Both hemispheres\n",
    "    #threshold=0.05,  # Highlight significant p-values\n",
    "    cmap='seismic',  # Colormap (e.g., 'viridis', 'coolwarm')\n",
    "    colorbar=True,  # Show colorbar\n",
    "    mask_img=mask_img,\n",
    "    vmin=-1, vmax=1, #removing these options to let it be automatic\n",
    ")\n",
    "\n",
    "# fig = plt.gcf()\n",
    "# fig.savefig('isc_corrected.png', dpi=300, facecolor='w', bbox_inches='tight')\n",
    "# plt.close()\n",
    "\n",
    "plotting.show()"
   ]
  },
  {
   "cell_type": "code",
   "execution_count": null,
   "metadata": {},
   "outputs": [],
   "source": []
  }
 ],
 "metadata": {
  "kernelspec": {
   "display_name": "base",
   "language": "python",
   "name": "python3"
  },
  "language_info": {
   "codemirror_mode": {
    "name": "ipython",
    "version": 3
   },
   "file_extension": ".py",
   "mimetype": "text/x-python",
   "name": "python",
   "nbconvert_exporter": "python",
   "pygments_lexer": "ipython3",
   "version": "3.11.7"
  }
 },
 "nbformat": 4,
 "nbformat_minor": 2
}
