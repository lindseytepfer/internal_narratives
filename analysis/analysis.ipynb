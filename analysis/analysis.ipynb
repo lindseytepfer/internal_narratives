{
 "cells": [
  {
   "cell_type": "code",
   "execution_count": 47,
   "metadata": {},
   "outputs": [],
   "source": [
    "import os\n",
    "import pandas as pd \n",
    "import math"
   ]
  },
  {
   "cell_type": "code",
   "execution_count": 26,
   "metadata": {},
   "outputs": [],
   "source": [
    "niipath = '/Users/lindseytepfer/Documents/phd/inarr/data/'\n",
    "sublist = [x for x in os.listdir(niipath) if 'sub' in x]"
   ]
  },
  {
   "cell_type": "code",
   "execution_count": 84,
   "metadata": {},
   "outputs": [],
   "source": [
    "v1_subs = ['sub-1','sub-10','sub-13','sub-14','sub-17','sub-18','sub-19','sub-20','sub-21','sub-24', 'sub-25','sub-26']\n",
    "v2_subs = ['sub-2','sub-3','sub-4','sub-5','sub-6','sub-7','sub-8','sub-9','sub-11','sub-12','sub-15','sub-16','sub-22','sub-23']\n",
    "\n",
    "v1_timestamps = pd.read_csv('/Users/lindseytepfer/Documents/phd/inarr/v1_manipulation_timestamps.csv', usecols=['movie','tr_start','tr_stop','type'])\n",
    "v1_stutterer_times = v1_timestamps[(v1_timestamps.movie == 'stutterer')].copy()\n",
    "v1_physical_times = v1_timestamps[(v1_timestamps.movie == 'physical')].copy().reset_index()\n",
    "#stutterer shape: (77, 95, 82, 373)\n",
    "#physical shape: (77, 95, 82, 302)"
   ]
  },
  {
   "cell_type": "code",
   "execution_count": 88,
   "metadata": {},
   "outputs": [],
   "source": [
    "def trim_image(image, dataframe, snum, movie):\n",
    "\n",
    "    for i in range(dataframe.index.max()+1):\n",
    "        start = math.floor(dataframe.loc[i, \"tr_start\"])\n",
    "        stop = math.ceil(dataframe.loc[i, \"tr_stop\"])\n",
    "        type = dataframe.loc[i, \"type\"]\n",
    "        \n",
    "        if i != 12:\n",
    "            sub_trimmed = image.slicer[:,:,:,start:stop]\n",
    "            nb.save(sub_trimmed,niipath+snum+\"/trimmed_data/\"+snum+\"_\"+movie+\"_\"+str(start)+\"_\"+str(stop)+\"_\"+type+\".nii.gz\")\n",
    "        \n",
    "        else:\n",
    "            sub_trimmed = image.slicer[:,:,:,start:]\n",
    "            nb.save(sub_trimmed,niipath+snum+\"/trimmed_data/\"+snum+\"_\"+movie+\"_\"+str(start)+\"_\"+str(image.shape[3])+\"_\"+type+\".nii.gz\")"
   ]
  },
  {
   "cell_type": "code",
   "execution_count": null,
   "metadata": {},
   "outputs": [],
   "source": [
    "for sub in sublist:\n",
    "    sub_files = [x for x in os.listdir(niipath+sub) if '.nii.gz' in x]\n",
    "\n",
    "    if sub in v1_subs[0:1]:\n",
    "        print('starting version 1 subject:', sub)\n",
    "\n",
    "        for f in sub_files:\n",
    "\n",
    "            if 'stutterer' in f:\n",
    "                sub_brain = nb.load(niipath+sub+os.sep+f)\n",
    "                trim_image(sub_brain, v1_stutterer_times, sub, 'stutterer')\n",
    "                print(\"saved the file: \", f)\n",
    "            \n",
    "            if 'physical' in f:\n",
    "                sub_brain = nb.load(niipath+sub+os.sep+f)\n",
    "                trim_image(sub_brain, v1_physical_times, sub, 'physical')\n",
    "                print(\"saved the file: \", f)\n",
    "\n"
   ]
  }
 ],
 "metadata": {
  "kernelspec": {
   "display_name": "base",
   "language": "python",
   "name": "python3"
  },
  "language_info": {
   "codemirror_mode": {
    "name": "ipython",
    "version": 3
   },
   "file_extension": ".py",
   "mimetype": "text/x-python",
   "name": "python",
   "nbconvert_exporter": "python",
   "pygments_lexer": "ipython3",
   "version": "3.11.7"
  }
 },
 "nbformat": 4,
 "nbformat_minor": 2
}
