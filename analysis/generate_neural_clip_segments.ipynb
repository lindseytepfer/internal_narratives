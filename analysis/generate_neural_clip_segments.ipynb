{
 "cells": [
  {
   "cell_type": "code",
   "execution_count": 8,
   "metadata": {},
   "outputs": [],
   "source": [
    "import os\n",
    "import pandas as pd \n",
    "import math\n",
    "import nibabel as nb\n",
    "import numpy as np\n",
    "#pd.set_option('display.max_rows', 10)"
   ]
  },
  {
   "cell_type": "markdown",
   "metadata": {},
   "source": [
    "First, load in all the subjects .nii files. Then, import the CSV file that specifies the timestamps where internal monologue is present during each video. For each video, the subject's neural timeseries file will be segmented out into 25 clips. This means that altogether, each subject will have 50 clips. "
   ]
  },
  {
   "cell_type": "code",
   "execution_count": 42,
   "metadata": {},
   "outputs": [],
   "source": [
    "inarr_data = '/Volumes/LT/phd/inarr/'\n",
    "\n",
    "sublist = [x for x in os.listdir(inarr_data) if 'sub' in x]\n",
    "\n",
    "timestamps = pd.read_csv('/Users/lindseytepfer/Documents/phd/inarr/monologue_timestamps.csv')\n",
    "\n",
    "v1_subs = ['sub-1','sub-10','sub-13','sub-14','sub-17','sub-18','sub-19',\n",
    "'sub-20','sub-21','sub-24','sub-25','sub-26','sub-27']\n",
    "v2_subs = ['sub-2','sub-3','sub-4','sub-5','sub-6','sub-7','sub-8','sub-9',\n",
    "'sub-11','sub-12','sub-15','sub-16','sub-22','sub-23', 'sub-28']"
   ]
  },
  {
   "cell_type": "markdown",
   "metadata": {},
   "source": [
    "This function takes in each .nii image and the subsetted dataframe, and uses the timestamps inside of the dataframe to determine where the nii files must be trimmed. Because we're dealing with brain data, we shift the timecourse by 6 seconds to account for the hemodynamic response function. "
   ]
  },
  {
   "cell_type": "code",
   "execution_count": 37,
   "metadata": {},
   "outputs": [],
   "source": [
    "def trim_image(brain, df, snum, movie):\n",
    "\n",
    "    for i in range(df.index.min(),df.index.max()+1):\n",
    "\n",
    "        start = math.floor((df.loc[i, \"start\"] / 2) + 6)\n",
    "        stop = math.ceil((df.loc[i, \"stop\"] /2) + 6)\n",
    "        type = df.loc[i, \"type\"]\n",
    "        version_silenced = df.loc[i, \"version_silenced\"]\n",
    "\n",
    "        if snum in v1_subs:\n",
    "            version = 1\n",
    "        elif snum in v2_subs:\n",
    "            version = 2\n",
    "\n",
    "        if i%2 == 1: #this means its an IM segment\n",
    "            if version_silenced == version:\n",
    "                version = str(version)+\"_silenced\"\n",
    "\n",
    "        if i != df.index[-1]:\n",
    "            sub_trimmed = brain.slicer[:,:,:,start:stop]\n",
    "        else:\n",
    "            sub_trimmed = brain.slicer[:,:,:,start:]\n",
    "\n",
    "        nb.save(sub_trimmed,inarr_data+snum+\"/segmented_files/\"+snum+\"_\"+movie+\"_clip-\"+str(i)+\"_\"+type+\"_version-\"+str(version)+\".nii.gz\")\n",
    "    \n",
    "    return (print(\"trimming complete.\"))"
   ]
  },
  {
   "cell_type": "code",
   "execution_count": null,
   "metadata": {},
   "outputs": [
    {
     "name": "stdout",
     "output_type": "stream",
     "text": [
      "sub-16\n",
      "trimming complete.\n",
      "trimming complete.\n",
      "sub-29\n",
      "sub-2\n",
      "trimming complete.\n",
      "trimming complete.\n",
      "sub-5\n",
      "trimming complete.\n",
      "trimming complete.\n",
      "sub-4\n",
      "trimming complete.\n",
      "trimming complete.\n",
      "sub-3\n",
      "trimming complete.\n",
      "trimming complete.\n"
     ]
    }
   ],
   "source": [
    "for sub in sublist:\n",
    "    print(sub)\n",
    "    sub_files = [x for x in os.listdir(inarr_data+sub) if '.nii.gz' in x]\n",
    "\n",
    "    for f in sub_files:\n",
    "        sub_brain = nb.load(inarr_data+sub+os.sep+f)\n",
    "\n",
    "        if 'physical' in f:\n",
    "            phys_df = timestamps[(timestamps.movie == 'physical')].copy()\n",
    "            trim_image(sub_brain, phys_df, sub, 'physical')\n",
    "\n",
    "        elif 'stutterer' in f:\n",
    "            stut_df = timestamps[(timestamps.movie == 'stutterer')].copy().reset_index()\n",
    "            trim_image(sub_brain, stut_df, sub, 'stutterer')\n",
    "\n"
   ]
  }
 ],
 "metadata": {
  "kernelspec": {
   "display_name": "base",
   "language": "python",
   "name": "python3"
  },
  "language_info": {
   "codemirror_mode": {
    "name": "ipython",
    "version": 3
   },
   "file_extension": ".py",
   "mimetype": "text/x-python",
   "name": "python",
   "nbconvert_exporter": "python",
   "pygments_lexer": "ipython3",
   "version": "3.11.7"
  }
 },
 "nbformat": 4,
 "nbformat_minor": 2
}
